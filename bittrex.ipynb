{
  "nbformat": 4,
  "nbformat_minor": 0,
  "metadata": {
    "colab": {
      "name": "Untitled6.ipynb",
      "provenance": [],
      "authorship_tag": "ABX9TyMQZDRzWNXAAGzgcGd5XOXV",
      "include_colab_link": true
    },
    "kernelspec": {
      "name": "python3",
      "display_name": "Python 3"
    }
  },
  "cells": [
    {
      "cell_type": "markdown",
      "metadata": {
        "id": "view-in-github",
        "colab_type": "text"
      },
      "source": [
        "<a href=\"https://colab.research.google.com/github/ScriptMigo/EDA-Stuff/blob/master/bittrex.ipynb\" target=\"_parent\"><img src=\"https://colab.research.google.com/assets/colab-badge.svg\" alt=\"Open In Colab\"/></a>"
      ]
    },
    {
      "cell_type": "code",
      "metadata": {
        "id": "2iZq-vQhBlCB"
      },
      "source": [
        "from bittrex_api import Bittrex\r\n",
        "from kcu import kjson"
      ],
      "execution_count": 12,
      "outputs": []
    },
    {
      "cell_type": "code",
      "metadata": {
        "id": "je86Z_HjAxgI"
      },
      "source": [
        "bittrex = Bittrex(\r\n",
        "    max_request_try_count=3, # Max tries for a request to succeed\r\n",
        "    sleep_time=2,            # sleep seconds between failed requests\r\n",
        "    debug_level=3\r\n",
        ")"
      ],
      "execution_count": 13,
      "outputs": []
    },
    {
      "cell_type": "code",
      "metadata": {
        "colab": {
          "base_uri": "https://localhost:8080/"
        },
        "id": "Bt_jZXcCBBpJ",
        "outputId": "36112a48-6a98-41f5-d360-a0770f7ddaae"
      },
      "source": [
        "v3 = bittrex.v3\r\n",
        "MARKET_NAME = 'USD-ALGO'\r\n",
        "\r\n",
        "kjson.print(v3.get_market(market=MARKET_NAME))\r\n",
        "kjson.print(v3.get_market_summary(market=MARKET_NAME))\r\n",
        "kjson.print(v3.get_orderbook(market=MARKET_NAME, depth=1))"
      ],
      "execution_count": 15,
      "outputs": [
        {
          "output_type": "stream",
          "text": [
            "https://api.bittrex.com/v3/markets/ALGO-USD\n",
            "{\n",
            "    \"symbol\": \"ALGO-USD\",\n",
            "    \"baseCurrencySymbol\": \"ALGO\",\n",
            "    \"quoteCurrencySymbol\": \"USD\",\n",
            "    \"minTradeSize\": \"10.00000000\",\n",
            "    \"precision\": 5,\n",
            "    \"status\": \"ONLINE\",\n",
            "    \"createdAt\": \"2020-05-19T16:44:32.547Z\",\n",
            "    \"prohibitedIn\": [],\n",
            "    \"associatedTermsOfService\": [],\n",
            "    \"tags\": []\n",
            "}\n",
            "https://api.bittrex.com/v3/markets/ALGO-USD/summary\n",
            "{\n",
            "    \"symbol\": \"ALGO-USD\",\n",
            "    \"high\": \"1.11037000\",\n",
            "    \"low\": \"0.96308000\",\n",
            "    \"volume\": \"316172.30869448\",\n",
            "    \"quoteVolume\": \"336182.86317925\",\n",
            "    \"percentChange\": \"7.36\",\n",
            "    \"updatedAt\": \"2021-03-01T18:22:34.84Z\"\n",
            "}\n",
            "https://api.bittrex.com/v3/markets/ALGO-USD/orderbook?depth=1\n",
            "{\n",
            "    \"bid\": [\n",
            "        {\n",
            "            \"quantity\": \"1541.66850328\",\n",
            "            \"rate\": \"1.04869000\"\n",
            "        }\n",
            "    ],\n",
            "    \"ask\": [\n",
            "        {\n",
            "            \"quantity\": \"785.21900000\",\n",
            "            \"rate\": \"1.05000000\"\n",
            "        }\n",
            "    ]\n",
            "}\n"
          ],
          "name": "stdout"
        }
      ]
    }
  ]
}